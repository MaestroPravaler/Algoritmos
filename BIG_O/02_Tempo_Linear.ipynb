{
 "metadata": {
  "language_info": {
   "codemirror_mode": {
    "name": "ipython",
    "version": 3
   },
   "file_extension": ".py",
   "mimetype": "text/x-python",
   "name": "python",
   "nbconvert_exporter": "python",
   "pygments_lexer": "ipython3",
   "version": 3
  },
  "orig_nbformat": 2
 },
 "nbformat": 4,
 "nbformat_minor": 2,
 "cells": [
  {
   "source": [
    "# Tempo Linear O(n)\n",
    "Tempo do algoritmo é dependente dos dados de entrada, ou seja, quantos mais dados tenho para processar maior é o tempo de execução."
   ],
   "cell_type": "markdown",
   "metadata": {}
  },
  {
   "cell_type": "code",
   "execution_count": null,
   "metadata": {},
   "outputs": [],
   "source": [
    "def tempo_linear_01(Dados)\n",
    "    for elementos in Dados\n",
    "        print(elementos)"
   ]
  },
  {
   "source": [
    "Quanto maior o número de dados maior o número de comparações que o algoritmo tem de realizar."
   ],
   "cell_type": "markdown",
   "metadata": {}
  },
  {
   "cell_type": "code",
   "execution_count": null,
   "metadata": {},
   "outputs": [],
   "source": [
    "def tempo_linear_02(dados)\n",
    "    compara = 0\n",
    "    for i in dados:\n",
    "        if i > compara:\n",
    "            conpara = i\n",
    "    return compara\n"
   ]
  },
  {
   "source": [
    "## Conclusão\n",
    "Podemos reconhecer o tempo linear O(n) em algoritmos onde existe uma interação com todos os elementos dos dados de entrada (Geralmente um loop na função) sem pular ou separar nada."
   ],
   "cell_type": "markdown",
   "metadata": {}
  }
 ]
}