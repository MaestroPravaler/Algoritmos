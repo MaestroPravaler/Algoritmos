{
 "metadata": {
  "language_info": {
   "codemirror_mode": {
    "name": "ipython",
    "version": 3
   },
   "file_extension": ".py",
   "mimetype": "text/x-python",
   "name": "python",
   "nbconvert_exporter": "python",
   "pygments_lexer": "ipython3",
   "version": "3.8.6-final"
  },
  "orig_nbformat": 2,
  "kernelspec": {
   "name": "python38664bitf7b8fb6b11f94e579c82b4227d404cb3",
   "display_name": "Python 3.8.6 64-bit",
   "language": "python"
  }
 },
 "nbformat": 4,
 "nbformat_minor": 2,
 "cells": [
  {
   "source": [
    "# Tempo Logarítmico O(log n)\n",
    "O Algoritmo reduz os dados de entrada a cada interação, assim não olha linearmente todos os dados mais os qualifica.\n",
    "\n",
    "1. Ordene a lista (numérica)\n",
    "\n",
    "2. Escolha o elemento que fica no centro da lista\n",
    "\n",
    "3. Verifique se este elemento é < ou > que a sua busca \n",
    "\n",
    "4. Descarte o lado em que a condição não foi satisfeita e repita o processo."
   ],
   "cell_type": "markdown",
   "metadata": {}
  },
  {
   "cell_type": "code",
   "execution_count": 13,
   "metadata": {},
   "outputs": [
    {
     "output_type": "stream",
     "name": "stdout",
     "text": [
      "Encontrei o valor buscado na posição [ 4 ] da lista\n"
     ]
    }
   ],
   "source": [
    "def binary_search(data, value):\n",
    "    n = len(data)\n",
    "    left = 0\n",
    "    right = n - 1\n",
    "    while left <= right:\n",
    "        middle = (left + right) // 2\n",
    "        if value < data[middle]:\n",
    "            right = middle - 1\n",
    "        elif value > data[middle]:\n",
    "            left = middle + 1\n",
    "        else:\n",
    "            return middle\n",
    "    raise ValueError('Value is not in the list')\n",
    "    \n",
    "if __name__ == '__main__':\n",
    "    data = [1, 2, 3, 4, 5, 6, 7, 8, 9]\n",
    "    valor_encontrado = binary_search(data, 5)\n",
    "    print(\"Encontrei o valor buscado na posição [\", valor_encontrado, \"] da lista\")"
   ]
  },
  {
   "source": [
    "## Conclusão\n",
    "Encontramos este modelo na busca binária."
   ],
   "cell_type": "markdown",
   "metadata": {}
  }
 ]
}