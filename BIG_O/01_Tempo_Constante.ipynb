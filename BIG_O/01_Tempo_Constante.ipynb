{
 "metadata": {
  "language_info": {
   "codemirror_mode": {
    "name": "ipython",
    "version": 3
   },
   "file_extension": ".py",
   "mimetype": "text/x-python",
   "name": "python",
   "nbconvert_exporter": "python",
   "pygments_lexer": "ipython3",
   "version": "3.8.6-final"
  },
  "orig_nbformat": 2,
  "kernelspec": {
   "name": "python38664bitf7b8fb6b11f94e579c82b4227d404cb3",
   "display_name": "Python 3.8.6 64-bit",
   "language": "python"
  }
 },
 "nbformat": 4,
 "nbformat_minor": 2,
 "cells": [
  {
   "source": [
    "# Tempo Constante O(1)\n",
    "Um algorítimo de tempo constante é aquele que, independente da quantidade de dados que receba, gastará o mesmo tempo para ser executado."
   ],
   "cell_type": "markdown",
   "metadata": {}
  },
  {
   "cell_type": "code",
   "execution_count": 3,
   "metadata": {},
   "outputs": [],
   "source": [
    "def tempo_constante_01():\n",
    "    print(\"Sou um algorítmo de tempo constante\")"
   ]
  },
  {
   "source": [
    "O algoritmo abaixo não realiza nenhuma interação com a variável passada, assim ele é de tempo de execução constante"
   ],
   "cell_type": "markdown",
   "metadata": {}
  },
  {
   "cell_type": "code",
   "execution_count": null,
   "metadata": {},
   "outputs": [],
   "source": [
    "def tempo_constante_02(n):\n",
    "    return n"
   ]
  },
  {
   "source": [
    "Acessamos um dado em um array por exemplo e retormanos somente um ítém sem realizar interações com ele."
   ],
   "cell_type": "markdown",
   "metadata": {}
  },
  {
   "cell_type": "code",
   "execution_count": null,
   "metadata": {},
   "outputs": [],
   "source": [
    "def tempo_constante_03(array):\n",
    "    return array[1] # retorna o segundo ítem da lista"
   ]
  },
  {
   "source": [
    "Não tem nenhum dado de entrada e adiciona um elemento. Igualmente gastará o mesmo tempo para adicionar este valor independente que valor seja."
   ],
   "cell_type": "markdown",
   "metadata": {}
  },
  {
   "cell_type": "code",
   "execution_count": null,
   "metadata": {},
   "outputs": [],
   "source": [
    "def tempo_constante_04():\n",
    "    minha_fila = queue.Queue()\n",
    "    minha_fila.put(valor)"
   ]
  },
  {
   "source": [
    "## Conclusão\n",
    "Se não estivermos interagindo (modificando) nenhum valor de entrada provavelmente estaremos diante de um exemplo O(1)."
   ],
   "cell_type": "markdown",
   "metadata": {}
  }
 ]
}