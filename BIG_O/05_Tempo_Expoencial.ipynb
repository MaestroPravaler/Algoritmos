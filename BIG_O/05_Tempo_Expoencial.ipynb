{
 "metadata": {
  "language_info": {
   "codemirror_mode": {
    "name": "ipython",
    "version": 3
   },
   "file_extension": ".py",
   "mimetype": "text/x-python",
   "name": "python",
   "nbconvert_exporter": "python",
   "pygments_lexer": "ipython3",
   "version": "3.8.6-final"
  },
  "orig_nbformat": 2,
  "kernelspec": {
   "name": "python38664bitf7b8fb6b11f94e579c82b4227d404cb3",
   "display_name": "Python 3.8.6 64-bit",
   "language": "python"
  }
 },
 "nbformat": 4,
 "nbformat_minor": 2,
 "cells": [
  {
   "source": [
    "# Tempo Expoencial O(2^n)\n",
    "O algoritimo resolve o problema de recursividade com O(n) utilizando dois sub-problemas de tamanho n-1. Um exemplo típico para esta complexidade de algorítmo é a sequecia de fibonacci.\n",
    "\n",
    "(item1 + item2 = item3 | item2 + item3 = item4) e assim por diante. "
   ],
   "cell_type": "markdown",
   "metadata": {}
  },
  {
   "cell_type": "code",
   "execution_count": null,
   "metadata": {},
   "outputs": [],
   "source": [
    "def fibonacci(item)\n",
    "    if item <= 1:\n",
    "        return item\n",
    "    return fibonacci(item - 2) + fibonacci(item -1)"
   ]
  },
  {
   "source": [
    "No exemplo acima a função chama ela mesma duas vezes, (dois sub-problemas n-1)"
   ],
   "cell_type": "markdown",
   "metadata": {}
  }
 ]
}