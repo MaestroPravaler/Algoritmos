{
 "metadata": {
  "language_info": {
   "codemirror_mode": {
    "name": "ipython",
    "version": 3
   },
   "file_extension": ".py",
   "mimetype": "text/x-python",
   "name": "python",
   "nbconvert_exporter": "python",
   "pygments_lexer": "ipython3",
   "version": "3.8.6-final"
  },
  "orig_nbformat": 2,
  "kernelspec": {
   "name": "python38664bitf7b8fb6b11f94e579c82b4227d404cb3",
   "display_name": "Python 3.8.6 64-bit",
   "language": "python"
  }
 },
 "nbformat": 4,
 "nbformat_minor": 2,
 "cells": [
  {
   "source": [
    "# Tempo Quadrático O(n²)\n",
    "Chamamos de tempo quadrático quando o algoritmo tem a necessidade de executar uma operação linear para cada valor de entrada. \n",
    "\n",
    "Geralmente encontramos uma relação O(n) dentro de outra. EX: um for dentro de outro for."
   ],
   "cell_type": "markdown",
   "metadata": {}
  },
  {
   "cell_type": "code",
   "execution_count": null,
   "metadata": {},
   "outputs": [],
   "source": [
    "def exemplo_funcao_quadratica (lista01, lista02):\n",
    "    resultado = []\n",
    "    for i in lista01:\n",
    "        for j in lista02:\n",
    "            if i = j:\n",
    "                resultado.append(i)"
   ]
  },
  {
   "source": [
    "Observe que no exemplo acima para cada elemento da lista01 vou iterar com os elementos da lista02. ==> O(n)*O(n) = O(n²)"
   ],
   "cell_type": "markdown",
   "metadata": {}
  }
 ]
}