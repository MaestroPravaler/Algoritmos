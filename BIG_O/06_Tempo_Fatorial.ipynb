{
 "metadata": {
  "language_info": {
   "codemirror_mode": {
    "name": "ipython",
    "version": 3
   },
   "file_extension": ".py",
   "mimetype": "text/x-python",
   "name": "python",
   "nbconvert_exporter": "python",
   "pygments_lexer": "ipython3",
   "version": "3.8.6-final"
  },
  "orig_nbformat": 2,
  "kernelspec": {
   "name": "python38664bitf7b8fb6b11f94e579c82b4227d404cb3",
   "display_name": "Python 3.8.6 64-bit",
   "language": "python"
  }
 },
 "nbformat": 4,
 "nbformat_minor": 2,
 "cells": [
  {
   "source": [
    "# Tempo Fatorial O(n!)\n",
    "O tempo do algoritmo cresce de forma fatorial de acordo com os dados de entrada. \n",
    "\n",
    "Exemplo 4! = 4*3*2*1"
   ],
   "cell_type": "markdown",
   "metadata": {}
  },
  {
   "cell_type": "code",
   "execution_count": 4,
   "metadata": {},
   "outputs": [],
   "source": [
    "def exemplo_tempo_fatorial(entrada):\n",
    "    for numero in range(entrada):\n",
    "        print(numero)\n",
    "        exemplo_tempo_fatorial(entrada -1)\n"
   ]
  },
  {
   "cell_type": "code",
   "execution_count": null,
   "metadata": {},
   "outputs": [],
   "source": []
  }
 ]
}